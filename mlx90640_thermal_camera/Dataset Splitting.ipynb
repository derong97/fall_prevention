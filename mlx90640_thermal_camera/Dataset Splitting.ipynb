{
 "cells": [
  {
   "cell_type": "code",
   "execution_count": 1,
   "metadata": {},
   "outputs": [],
   "source": [
    "import shutil, os\n",
    "import random\n",
    "import numpy as np\n",
    "\n",
    "# Directories\n",
    "DATASET_DIR = 'data_collection/posture_data'\n",
    "OUTPUT_DIR = 'action_recognition/data'\n",
    "\n",
    "SPLITS = ['train', 'val', 'test']\n",
    "ACTIONS = ['sit', 'stand', 'bend', 'inaction', 'tampered']\n",
    "\n",
    "# Splits\n",
    "TRAIN_PCT = 0.7\n",
    "VAL_PCT = 0.2\n",
    "TEST_PCT = 0.1"
   ]
  },
  {
   "cell_type": "code",
   "execution_count": 2,
   "metadata": {},
   "outputs": [
    {
     "name": "stdout",
     "output_type": "stream",
     "text": [
      "Created action_recognition/data\n",
      "Created action_recognition/data/train\n",
      "Created action_recognition/data/train/sit\n",
      "Created action_recognition/data/train/stand\n",
      "Created action_recognition/data/train/bend\n",
      "Created action_recognition/data/train/inaction\n",
      "Created action_recognition/data/train/tampered\n",
      "Created action_recognition/data/val\n",
      "Created action_recognition/data/val/sit\n",
      "Created action_recognition/data/val/stand\n",
      "Created action_recognition/data/val/bend\n",
      "Created action_recognition/data/val/inaction\n",
      "Created action_recognition/data/val/tampered\n",
      "Created action_recognition/data/test\n",
      "Created action_recognition/data/test/sit\n",
      "Created action_recognition/data/test/stand\n",
      "Created action_recognition/data/test/bend\n",
      "Created action_recognition/data/test/inaction\n",
      "Created action_recognition/data/test/tampered\n"
     ]
    }
   ],
   "source": [
    "if not os.path.exists(OUTPUT_DIR):\n",
    "    os.mkdir(OUTPUT_DIR)\n",
    "    print(\"Created {}\".format(OUTPUT_DIR))\n",
    "    \n",
    "for group in SPLITS:\n",
    "    group_path = os.path.join(OUTPUT_DIR, group)\n",
    "    if not os.path.exists(group_path):\n",
    "        os.mkdir(group_path)\n",
    "        print(\"Created {}\".format(group_path))\n",
    "        \n",
    "        for action in ACTIONS:\n",
    "            file_path = os.path.join(group_path, action)\n",
    "            os.mkdir(file_path)\n",
    "            print(\"Created {}\".format(file_path))"
   ]
  },
  {
   "cell_type": "code",
   "execution_count": 3,
   "metadata": {},
   "outputs": [],
   "source": [
    "for action in os.listdir(DATASET_DIR):\n",
    "    action_path = os.path.join(DATASET_DIR, action)\n",
    "    files = os.listdir(action_path)\n",
    "    \n",
    "    train = random.sample(files, int(TRAIN_PCT * len(files)))\n",
    "    val_test = [file for file in files if file not in train]\n",
    "    val = random.sample(val_test, int(VAL_PCT * len(files)))\n",
    "    test = [file for file in val_test if file not in val]\n",
    "    \n",
    "    for f in train:\n",
    "        src = os.path.join(action_path, f)\n",
    "        dest = os.path.join(OUTPUT_DIR, 'train', action, f)\n",
    "        shutil.copy(src, dest)\n",
    "    for f in val:\n",
    "        src = os.path.join(action_path, f)\n",
    "        dest = os.path.join(OUTPUT_DIR, 'val', action, f)\n",
    "        shutil.copy(src, dest)\n",
    "    for f in test:\n",
    "        src = os.path.join(action_path, f)\n",
    "        dest = os.path.join(OUTPUT_DIR, 'test', action, f)\n",
    "        shutil.copy(src, dest)"
   ]
  }
 ],
 "metadata": {
  "kernelspec": {
   "display_name": "Python 3",
   "language": "python",
   "name": "python3"
  },
  "language_info": {
   "codemirror_mode": {
    "name": "ipython",
    "version": 3
   },
   "file_extension": ".py",
   "mimetype": "text/x-python",
   "name": "python",
   "nbconvert_exporter": "python",
   "pygments_lexer": "ipython3",
   "version": "3.6.10"
  }
 },
 "nbformat": 4,
 "nbformat_minor": 4
}
